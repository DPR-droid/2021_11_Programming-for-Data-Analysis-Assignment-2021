{
 "cells": [
  {
   "cell_type": "markdown",
   "metadata": {},
   "source": [
    "# Assignment Statement\n",
    "\n",
    "Create a Jupyter notebook explaining the use of the package, including detailed explanations of at least five of the distributions provided for in the package\n",
    "\n",
    "There are four distinct tasks to be carried out in your Jupyter notebook.\n",
    "\n",
    "1. Explain the overall purpose of the package.\n",
    "2. Explain the use of the “Simple random data” and “Permutations” functions.\n",
    "3. Explain the use and purpose of at least five “Distributions” functions.\n",
    "4. Explain the use of seeds in generating pseudorandom numbers.\n",
    "\n",
    "## Settings for Python\n",
    "\n",
    "The following three sections as not to distract the reader from the subsequent tasks. This also proves essentially Numpy is faster than Python dealing with numbers, big long lists or lists within lists like matrices. [2] with minimal lines of code.\n",
    "\n",
    "- Import Python libraries for Assignment\n",
    "- Check version of Numpy\n",
    "- Plot Function\n",
    "\n",
    "## Import Python libraries for Assignment\n",
    "\n",
    "Python Modules are imported at the beginning of the Jupyter notebook. These are required for a user if they wish to run an assignment."
   ]
  },
  {
   "cell_type": "code",
   "execution_count": 2,
   "metadata": {},
   "outputs": [],
   "source": [
    "########################################################################\n",
    "# GMIT assignment for Programming for Data Analysis\n",
    "# Programming-for-Data-Analysis-Assignment-2021\n",
    "# Due: last commit on or before 22/11/2021\n",
    "# numpy-random.ipynb\n",
    "# Author David\n",
    "# The project submitted is in a Jupyter notebook\n",
    "########################################################################\n",
    "# Global settings\n",
    "# Importing all the modules required for the juypter Notbook\n",
    "# All imports are listed in the requirments.txt\n",
    "########################################################################\n",
    "# Import numpy module\n",
    "import numpy as np\n",
    "# Import mathplotlib\n",
    "import matplotlib.pyplot as plt\n",
    "# Import time\n",
    "import time\n",
    "# import seaborn\n",
    "import seaborn as sns\n",
    "# import warnings\n",
    "import warnings\n",
    "warnings.filterwarnings(\"ignore\")"
   ]
  },
  {
   "cell_type": "markdown",
   "metadata": {},
   "source": [
    "## Check version of Numpy\n",
    "\n",
    "![NumPy](https://github.com/DPR-droid/Programming-for-Data-Analysis-Assignment-2021/blob/main/png/NumPy.png?raw=true)\n",
    "\n",
    "As NumPy is constantly updated the function may change. Getting the users version of NumPy as it is required for np.random.default_rng() and is discussed later in the assignment. A version greater than 1.17 is required for a user if they wish to run the assignment. Please revert to the [Official NumPy website](https://numpy.org/doc/stable/index.html) for any updates."
   ]
  },
  {
   "cell_type": "code",
   "execution_count": 3,
   "metadata": {},
   "outputs": [
    {
     "name": "stdout",
     "output_type": "stream",
     "text": [
      "#######################################################################\n",
      "## This Jupyter notebook requires Numpy of version greater than 1.17 ##\n",
      "######################################################################\n",
      "################# You are running version 1.20.1 ######################\n",
      "#######################################################################\n"
     ]
    }
   ],
   "source": [
    "########################################################################\n",
    "# Get user version of Numpy required for np.random.default_rng()\n",
    "# This is discussed later in the assignment\n",
    "########################################################################\n",
    "numpyversion = np.__version__\n",
    "\n",
    "print('#######################################################################')\n",
    "print('## This Jupyter notebook requires Numpy of version greater than 1.17 ##')\n",
    "print('######################################################################')\n",
    "print('################# You are running version ' + str(numpyversion) +' ######################')\n",
    "print('#######################################################################')"
   ]
  },
  {
   "cell_type": "markdown",
   "metadata": {},
   "source": [
    "## Plot Function\n",
    "\n",
    "The plot function created is for the following purposes\n",
    "1. To create consistency with plots for each of the distributions. \n",
    "2. For the reader to focus the use of NumPy.random function and not superfluous lines of other code about plots"
   ]
  },
  {
   "cell_type": "code",
   "execution_count": 4,
   "metadata": {},
   "outputs": [],
   "source": [
    "########################################################################\n",
    "# Plot function \n",
    "########################################################################\n",
    "def plotsforassignment(example, titlename, labelx, labely, binno):\n",
    "    sns.distplot(example, hist=True, kde=True, \n",
    "             bins=binno, color = 'red', \n",
    "             hist_kws={'edgecolor':'black'},\n",
    "             kde_kws={'linewidth': 4})\n",
    "    count, bins, ignored = plt.hist(example, binno, edgecolor='black', density=True)\n",
    "    plt.title(titlename)\n",
    "    plt.xlabel(labelx)\n",
    "    plt.ylabel(labely)\n",
    "    plt.show()\n"
   ]
  },
  {
   "cell_type": "markdown",
   "metadata": {},
   "source": [
    "## End of Jupyter Notebook set up for Python"
   ]
  },
  {
   "cell_type": "markdown",
   "metadata": {},
   "source": [
    "# Introduction\n",
    "\n",
    "The assignment concerns the NumPy.random package and creating a Jupyter Notebook explaining the package including a detailed explanation of the four distinct tasks. Details of the package can be found at the [Official NumPy website](https://numpy.org/doc/stable/index.html) and the function of [NumPy.random.* click here](https://numpy.org/doc/stable/reference/random/generator.html#simple-random-data). One of the requirements of the project was to have a less robotic description and more of a real descriptive flavour of what the package is about. [2] The design I have chosen is to use real-world examples using the **numpy.random.*** function. Each example given is a flavour of some of the functions and an easy to understand real-world explanation. \n",
    "\n",
    "- Why Numpy? \n",
    "- How Fast?\n",
    "- How can it be applied in the real world?\n",
    "    - Simple random data functions - Throwing dice\n",
    "    - Uniform Distribution - Guessing birthday\n",
    "    - Normal Distribution - Natural phenomena of IQ\n",
    "    - Binomial Distribution - Probability of SPAM\n",
    "    - Poisson Distribution - I'm Hungry\n",
    "    - Exponential Distribution - There she blows"
   ]
  },
  {
   "cell_type": "markdown",
   "metadata": {},
   "source": [
    "# 1. Explain the overall purpose of the package.\n",
    "\n",
    "## Numpy\n",
    "\n",
    "Before discussing the overall purpose of the NumPy.random.*, we first need to have an overview of the Python Numpy module. \n",
    "\n",
    "### Overall purpose of NumPy (Robotic version)\n",
    "\n",
    "[Official Documentation](https://numpy.org/doc/stable/index.html)\n",
    "\n",
    "NumPy is an acronym for \"Numerical Python\" and is a package for scientific computing in Python and a library with built-in functions:\n",
    "- Multidimensional array object\n",
    "- Various derived objects (arrays and matrices)\n",
    "- Fast Operations on arrays \n",
    "    - mathematical, logical, shape manipulation, sorting, selecting, I/O, discrete Fourier transforms, basic linear algebra, basic statistical operations, random simulation At the core of the NumPy package, is the ndarray object. This encapsulates n-dimensional arrays of homogeneous data types, with many operations being performed in compiled code for performance.\n",
    "\n",
    "At the core of the NumPy package, is the ndarray object. This encapsulates n-dimensional arrays of homogeneous data types, with many operations being performed in compiled code for performance. There are several important differences between NumPy arrays and the standard Python sequences:\n",
    "- NumPy arrays have a fixed size at creation, unlike Python lists (which can grow dynamically). Changing the size of an ndarray will create a new array and delete the original.\n",
    "- The elements in a NumPy array are all required to be of the same data type, and thus will be the same size in memory. The exception: one can have arrays of (Python, including NumPy) objects, thereby allowing for arrays of different-sized elements.\n",
    "- NumPy arrays facilitate advanced mathematical and other types of operations on large numbers of data. Typically, such operations are executed more efficiently and with less code than is possible using Python’s built-in sequences.\n",
    "- A growing plethora of scientific and mathematical Python-based packages are using NumPy arrays; though these typically support Python-sequence input, they convert such input to NumPy arrays before processing, and they often output NumPy arrays. In other words, to efficiently use much (perhaps even most) of today’s scientific/mathematical Python-based software, just knowing how to use Python’s built-in sequence types is insufficient - one also needs to know how to use NumPy arrays. [1]\n",
    "\n",
    "### NumPy package simplified (Real descriptive flavour)\n",
    "\n",
    "In plain English what are the advantages of **NumPy** over the Python mathematical functions include:\n",
    "- **Size** - Numpy data structures take up less space\n",
    "- **Performance** - they require speed and are faster than lists\n",
    "- **Functionality** - NumPy have optimized functions such as linear algebra operations built-in. [5]\n",
    "\n",
    "Essentially Numpy is faster than Python dealing with numbers, big long lists or lists within lists like matrices. [2] This also allows data analyst to execute a script using the module, the values can be changed allowing the simulation of data to test a hypothesis before applying or in the absence of real data. [9]\n",
    "\n",
    "### How fast is NumPy?\n",
    "\n",
    "Now let me show you by creating 2 Python lists and 2 Numpy arrays with each container having 100000 elements. [6] Then calculate the time to perform\n",
    "\n",
    "1. Using Python only to multiply elements of both the lists and store in another list\n",
    "2. Using NumPy Module to multiply elements of both the Numpy arrays and store in another NumPy array\n",
    "3. Output how much faster is NumPy \n",
    "\n",
    "Output:\n",
    "    \n",
    "    size = 100000  \n",
    "    Time taken by python lists to perform multiplication: 3.899850606918335 seconds\n",
    "    Time taken by NumPy Arrays to perform multiplication: 0.10661029815673828 seconds\n",
    "    Numpy is in this example 0.9999999976169666 faster!\n",
    "\n",
    "**Note: The speeds obtained above can vary depending on the type of computer architecture**"
   ]
  },
  {
   "cell_type": "markdown",
   "metadata": {},
   "source": [
    "### Timing Numpy program"
   ]
  },
  {
   "cell_type": "code",
   "execution_count": 5,
   "metadata": {},
   "outputs": [
    {
     "name": "stdout",
     "output_type": "stream",
     "text": [
      "######################################################################\n",
      "Time taken by python lists to perform multiplication: 0.01699686050415039 seconds\n",
      "Time taken by NumPy Arrays to perform multiplication: 0.00099945068359375 seconds\n",
      "Numpy is in this example 0.9999999999896207 faster!\n",
      "###############################################################\n"
     ]
    }
   ],
   "source": [
    "########################################################################\n",
    "# Example 1\n",
    "########################################################################\n",
    "# Compare the speed of Python versus NumPy module in Python \n",
    "########################################################################\n",
    "# If you are running this why don't you try changing increasing the size from 100000 to 50000000.\n",
    "# Size of arrays and lists\n",
    "size = 100000  \n",
    "# size = 50000000  \n",
    "# Declaring Python lists\n",
    "list1 = range(size)\n",
    "list2 = range(size)\n",
    "   \n",
    "# Declaring NumPy arrays\n",
    "array1 = np.arange(size)  \n",
    "array2 = np.arange(size)\n",
    "   \n",
    "# Capturing time before the multiplication of Python lists\n",
    "PythonTime = time.time()\n",
    "  \n",
    "# Multiplying elements of both the lists and stored in another list\n",
    "resultantList = [(a * b) for a, b in zip(list1, list2)]\n",
    "   \n",
    "# Calculating execution time of Python\n",
    "print('######################################################################')\n",
    "print(\"Time taken by python lists to perform multiplication:\", (time.time() - PythonTime), \"seconds\")\n",
    "   \n",
    "# Capturing time before the multiplication of Numpy arrays\n",
    "NumpyTime = time.time()\n",
    "  \n",
    "# Multiplying elements of both the Numpy arrays and stored in another Numpy array \n",
    "resultantArray = array1 * array2\n",
    "   \n",
    "# Calculating execution time NumPy\n",
    "print(\"Time taken by NumPy Arrays to perform multiplication:\", (time.time() - NumpyTime), \"seconds\")\n",
    "\n",
    "# How fast is it?\n",
    "Numpyspeed = (PythonTime/NumpyTime)\n",
    "print(\"Numpy is in this example \" + str(Numpyspeed) + \" faster!\")\n",
    "print('###############################################################')"
   ]
  },
  {
   "cell_type": "markdown",
   "metadata": {},
   "source": [
    "## Overall purpose of the NumPy.random.* (Robotic version)\n",
    "Documentation for [numpy.random](https://numpy.org/doc/stable/reference/random/index.html) \n",
    "\n",
    "The NumPy.random Documentation has been updated recently and divided into two sections [BitGenerators](https://numpy.org/doc/stable/reference/random/bit_generators/generated/numpy.random.BitGenerator.html#numpy.random.BitGenerator) and [Generators](https://numpy.org/doc/stable/reference/random/generator.html#numpy.random.Generator). The main difference between the two is that Generator relies on an additional BitGenerator to manage the state and generate the random bits, which are then transformed into random values from useful distributions.\n",
    "\n",
    "### What is a random number? \n",
    "According to [Wolfram MathWorld](https://mathworld.wolfram.com/RandomNumber.html), a random number is a number chosen as if by chance from some specified distribution such that selection of a large set of these numbers reproduces the underlying distribution. Almost always, such numbers are also required to be independent, so that there are no correlations between successive numbers. Computer-generated random numbers are sometimes called pseudorandom numbers, while the term \"random\" is reserved for the output of unpredictable physical processes. When used without qualification, the word \"random\" usually means \"random with a uniform distribution. [7]\n",
    "\n",
    "### What is numpy.random? (Real descriptive flavour)\n",
    "The **NumPy.random** is a sub-package of the NumPy library. This module contains the functions which are used for generating random numbers. This module contains some simple random data generation methods, some permutation and distribution functions, and a random generator function. [8] When the script is executed using the module the values change allowing the simulation of data to test a hypothesis before applying or in the absence of real data. Random numbers are mainly used for the various types of testing and sampling in such areas as data analytics, scientific research and machine learning. Many functions exist in the random module to generate random numbers [9]\n",
    "\n",
    "### More information\n",
    "The decision here was to only give an opening about numpy.random as the rest of the assignment tasks will demostrate the knowledge learned by illustrating the practical \"Real World\" uses of the package.  "
   ]
  },
  {
   "cell_type": "markdown",
   "metadata": {},
   "source": [
    "# 2. Explain the use of the “Simple random data” and “Permutations” functions."
   ]
  },
  {
   "cell_type": "markdown",
   "metadata": {},
   "source": [
    "## Simple random data\n",
    "\n",
    "The material used below in Examples 2,3,4 is taken from the API documentation of [Simple random data](https://numpy.org/doc/stable/reference/random/generator.html#simple-random-data) as it is a great resource for references and here to explain as an introduction. Example 5 is there to demonstrate how to apply a real-world simulation of throwing two dice. \n",
    "\n",
    "## Simple random data overview (Robotic version)\n",
    "There are four functions within [Simple random data](https://numpy.org/doc/stable/reference/random/generator.html#simple-random-data). \n",
    "\n",
    "1. [integers](https://numpy.org/doc/stable/reference/random/generated/numpy.random.Generator.integers.html#numpy.random.Generator.integers): Return random integers from low (inclusive) to high (exclusive), or if endpoint=True, low (inclusive) to high (inclusive). \n",
    "2. [random](https://numpy.org/doc/stable/reference/random/generated/numpy.random.Generator.random.html#numpy.random.Generator.random): Return random floats in the half-open interval [0.0, 1.0).\n",
    "3. [choice](https://numpy.org/doc/stable/reference/random/generated/numpy.random.Generator.choice.html#numpy.random.Generator.choice): Generates a random sample from a given array\n",
    "4. [bytes](https://numpy.org/doc/stable/reference/random/generated/numpy.random.Generator.bytes.html#numpy.random.Generator.bytes): Generates a random sample from a given array\n",
    "\n",
    "### What does this all mean? (Real descriptive flavour)\n",
    "The package generates random arrays including integers or floats with ranges specified or using other arrays.\n",
    "\n",
    "### Now let us look at examples of some of the functions\n",
    "1. Example 2 uses the integer function to create an array of random numbers up to 100, 10000 times. This returns random integers from the “discrete uniform” distribution and displayed in a histogram [13] \n",
    "2. Example 3 is from the [NumPy API Random Documentation](https://numpy.org/doc/stable/reference/random/generated/numpy.random.Generator.random.html#numpy.random.Generator.random) to generate a random float. This example is used to show the reader that more examples and resources are available.\n",
    "3. Example 4 is used to random sample from a given array and the probabilities associated with each entry in the array\n",
    "4. Example 5 is a demonstration of ***How would you use Simple random data*** \n"
   ]
  },
  {
   "cell_type": "code",
   "execution_count": 6,
   "metadata": {},
   "outputs": [
    {
     "data": {
      "text/plain": [
       "array([90, 78, 34, ..., 32, 57, 48], dtype=int64)"
      ]
     },
     "execution_count": 6,
     "metadata": {},
     "output_type": "execute_result"
    }
   ],
   "source": [
    "########################################################################\n",
    "# Example 2\n",
    "########################################################################\n",
    "# uses the integer function to create an array of random numbers up to \n",
    "# 100, 10000 times. This returns random integers from the \n",
    "# “discrete uniform” distribution and displayed in a histogram\n",
    "########################################################################\n",
    "rng = np.random.default_rng()\n",
    "# Create an array\n",
    "randomintegers = rng.integers(100, size=10000)\n",
    "randomintegers"
   ]
  },
  {
   "cell_type": "code",
   "execution_count": 7,
   "metadata": {},
   "outputs": [
    {
     "data": {
      "text/plain": [
       "(array([ 986., 1024.,  992.,  995.,  938., 1004.,  997., 1004., 1026.,\n",
       "        1034.]),\n",
       " array([ 0. ,  9.9, 19.8, 29.7, 39.6, 49.5, 59.4, 69.3, 79.2, 89.1, 99. ]),\n",
       " <BarContainer object of 10 artists>)"
      ]
     },
     "execution_count": 7,
     "metadata": {},
     "output_type": "execute_result"
    },
    {
     "data": {
      "image/png": "[encoded data removed]",
      "text/plain": [
       "<Figure size 432x288 with 1 Axes>"
      ]
     },
     "metadata": {
      "needs_background": "light"
     },
     "output_type": "display_data"
    }
   ],
   "source": [
    "# Plot  \n",
    "plt.hist(randomintegers)"
   ]
  },
  {
   "cell_type": "code",
   "execution_count": 8,
   "metadata": {},
   "outputs": [
    {
     "name": "stdout",
     "output_type": "stream",
     "text": [
      "######################################################################\n",
      "As you increase the size notice the uniformity demonstrated by the red line\n",
      "This will become more relevant when reviewing distributions\n",
      "######################################################################\n"
     ]
    },
    {
     "data": {
      "image/png": "[encoded data removed]",
      "text/plain": [
       "<Figure size 432x288 with 1 Axes>"
      ]
     },
     "metadata": {
      "needs_background": "light"
     },
     "output_type": "display_data"
    }
   ],
   "source": [
    "# Increasing the values and see the affect on the histogram\n",
    "# 100 to 800\n",
    "# 10000 to 3000000\n",
    "rng = np.random.default_rng()\n",
    "# Create an array\n",
    "randomintegers = rng.integers(800, size=3000000)\n",
    "print('######################################################################')\n",
    "print('As you increase the size notice the uniformity demonstrated by the red line')\n",
    "print('This will become more relevant when reviewing distributions')\n",
    "print('######################################################################')\n",
    "# Create a plot to see the randomness\n",
    "plotsforassignment(randomintegers, 'Uniform distribution', 'Array', 'Count', 10)"
   ]
  },
  {
   "cell_type": "code",
   "execution_count": 9,
   "metadata": {},
   "outputs": [
    {
     "name": "stdout",
     "output_type": "stream",
     "text": [
      "[0.45885159 0.27542132 0.71106083 0.46566208 0.89599191]\n"
     ]
    }
   ],
   "source": [
    "########################################################################\n",
    "# Example 3\n",
    "########################################################################\n",
    "# This example is illustrates a sample code to generate a random float\n",
    "# from the API Documentation\n",
    "# Print 5 random floats.\n",
    "########################################################################\n",
    "rng = np.random.default_rng()\n",
    "print(rng.random(5)) "
   ]
  },
  {
   "cell_type": "code",
   "execution_count": 10,
   "metadata": {},
   "outputs": [
    {
     "data": {
      "text/plain": [
       "<matplotlib.collections.PathCollection at 0x29e86652df0>"
      ]
     },
     "execution_count": 10,
     "metadata": {},
     "output_type": "execute_result"
    },
    {
     "data": {
      "image/png": "[encoded data removed]",
      "text/plain": [
       "<Figure size 432x288 with 1 Axes>"
      ]
     },
     "metadata": {
      "needs_background": "light"
     },
     "output_type": "display_data"
    }
   ],
   "source": [
    "########################################################################\n",
    "# This example illustrates generating 100 random floats for x and y\n",
    "# and display on a scatter plot [30]\n",
    "# replay the script the scatterplot will change.\n",
    "########################################################################\n",
    "rng = np.random.default_rng()\n",
    "x = rng.random(100)\n",
    "y = rng.random(100)\n",
    "# Create a scatterplot to see the randomness\n",
    "plt.scatter(x, y, marker='o')"
   ]
  },
  {
   "cell_type": "code",
   "execution_count": 11,
   "metadata": {},
   "outputs": [
    {
     "data": {
      "text/plain": [
       "array(['Jack Frost', 'Santa', 'Santa', 'Jack Frost', 'Sandman'],\n",
       "      dtype='<U12')"
      ]
     },
     "execution_count": 11,
     "metadata": {},
     "output_type": "execute_result"
    }
   ],
   "source": [
    "########################################################################\n",
    "# Example 4\n",
    "########################################################################\n",
    "# Random sample from a given array and the probabilities associated \n",
    "# with each entry in the array\n",
    "########################################################################\n",
    "rng = np.random.default_rng()\n",
    "# Generates a random sample of an array\n",
    "aa_milne_arr = ['Santa', 'Easter Bunny', 'Jack Frost', 'Sandman', 'Tooth Fairy']\n",
    "# p value must have same size \n",
    "# 5 samples in array, 5 different p values \n",
    "#\n",
    "# p value must add upto 1  \n",
    "# 0.4 + 0.1 + 0.1 + 0.2 + 0.2 = 1\n",
    "rng.choice(aa_milne_arr, 5, p=[0.4, 0.1, 0.1, 0.2, 0.2])"
   ]
  },
  {
   "cell_type": "markdown",
   "metadata": {},
   "source": [
    "### How would you use Simple random data \n",
    "#### Example 5\n",
    "\n",
    "As explained previously above ***when the script is executed using the module the values change allowing the simulation of data to test a hypothesis before applying or in the absence of real data***. Rolling two dice we understand that it is more likely that the total number of 6,7,8 happens more frequently. To test that hypothesis we wouldn't want to roll two dice ten thousand times, besides sore wrist and missed childhoods, we are going to allow NumPy.random to generate an array of two numbers between 1 and 6, repeatedly 100000 times. \n",
    "\n",
    "1. Input the number of dice ***numofdice = 2***\n",
    "2. Input the number of rolls ***numofturn = 100000***\n",
    "3. Add the values of the 2 dice, numbers between 2 and 12\n",
    "4. Count the number of times a number occurs between 2 and 12\n",
    "5. Output a graph\n",
    "\n",
    "\n",
    "Why not update the values below to 10 dice and 5000000\n",
    "\n",
    "    ***numofdice = 10***\n",
    "    ***numofturn = 5000000***\n",
    "\n",
    "## Throwing 2 Dice 10000 times\n",
    "\n"
   ]
  },
  {
   "cell_type": "code",
   "execution_count": 12,
   "metadata": {},
   "outputs": [
    {
     "name": "stdout",
     "output_type": "stream",
     "text": [
      "###############################################################\n",
      "Example of output of dice thrown\n",
      "[[2 5]\n",
      " [5 2]\n",
      " [6 2]\n",
      " ...\n",
      " [2 2]\n",
      " [1 2]\n",
      " [5 4]]\n",
      "###############################################################\n",
      "Example of output total when adding dice together\n",
      "[7 7 8 ... 4 3 9]\n",
      "###############################################################\n",
      "Output totals to identify the highest probable outcome when throwning two dice\n"
     ]
    },
    {
     "data": {
      "image/png": "[encoded data removed]",
      "text/plain": [
       "<Figure size 432x288 with 1 Axes>"
      ]
     },
     "metadata": {
      "needs_background": "light"
     },
     "output_type": "display_data"
    }
   ],
   "source": [
    "########################################################################\n",
    "# Example 5\n",
    "########################################################################\n",
    "# How would you use Simple random data\n",
    "########################################################################\n",
    "# [10] Script updated for version of NumPy v1.21 Simple random data functions  \n",
    "rng = np.random.default_rng()\n",
    "# The number of dice to roll in each turn\n",
    "numofdice = 2\n",
    "# The number of turns\n",
    "numofturn = 100000\n",
    "# Roll the dice\n",
    "dice = rng.integers(1, 7, size=(numofturn, numofdice))\n",
    "# See List\n",
    "print('###############################################################')\n",
    "print('Example of output of dice thrown')\n",
    "print(dice)\n",
    "print('###############################################################')\n",
    "# Sum the faces of the dice\n",
    "totals = np.sum(dice, axis=1)\n",
    "# Have a look\n",
    "print('Example of output total when adding dice together')\n",
    "print(totals)\n",
    "print('###############################################################')\n",
    "# Count the number of total for 2 dice.\n",
    "faces, counts = np.unique(totals, return_counts=True)\n",
    "faces , counts\n",
    "print('Output totals to identify the highest probable outcome when throwning two dice')\n",
    "plt.xlabel('Dice')\n",
    "plt.ylabel('Counts')\n",
    "plt.title('Throwing 2 Dice 10000 times')\n",
    "plt.bar(faces , counts)\n",
    "plt.show()"
   ]
  },
  {
   "cell_type": "markdown",
   "metadata": {},
   "source": [
    "## Permutations (Robotic version)\n",
    "\n",
    "The material used below in Examples 6 is taken from the API documentation of [Permutations](https://numpy.org/doc/stable/reference/random/generator.html#permutations) as it is a great resource for references and here to explain as an introduction. The np.random.permutation() function randomly permute a sequence or return a permuted range. Numpy random permutation() method accepts x, an int or array_like parameter, and returns the permuted sequence or array range. [11]\n",
    "\n",
    "1. [shuffle](https://numpy.org/doc/stable/reference/random/generated/numpy.random.Generator.shuffle.html#numpy.random.Generator.shuffle): Modify an array or sequence in-place by shuffling its contents.\n",
    "2. [permutation](https://numpy.org/doc/stable/reference/random/generated/numpy.random.Generator.permutation.html#numpy.random.Generator.permutation): Randomly permute a sequence, or return a permuted range.\n",
    "3. [permuted](https://numpy.org/doc/stable/reference/random/generated/numpy.random.Generator.permuted.html#numpy.random.Generator.permuted): Randomly permute a sequence, or return a permuted range.\n",
    "\n",
    "## What does this all mean? (Real descriptive flavour)\n",
    "\n",
    "The package randomises the sequence or shuffling of data. Whys is that important if we have used data and created the predictions model and it works. The permutation allows to randomly shuffle the data, how would that affect the accuracy of predictions in that now-shuffled data? Randomly re-ordering a single column should cause less accurate predictions, since the resulting data no longer corresponds to anything observed in the real world. Model accuracy especially suffers if we shuffle a column that the model relied on heavily for predictions. \n",
    "\n",
    "With this insight, the process is as follows:\n",
    "\n",
    "- Get a trained model.\n",
    "- Shuffle the values in a single column, make predictions using the resulting dataset. \n",
    "- Use these predictions and the true target values to calculate how much the loss function suffered from shuffling. That performance deterioration measures the importance of the variable you just shuffled.\n",
    "- Return the data to the original order (undoing the shuffle from step 2). Now repeat step 2 with the next column in the dataset, until you have calculated the importance of each column.  [11]\n",
    "\n",
    "### Now let us look at an example function\n",
    "\n",
    "The example below generates 3 arrays each with 8 numbers from 0 to 23. Using the permuted function arrays numbers are shuffled \n"
   ]
  },
  {
   "cell_type": "code",
   "execution_count": 13,
   "metadata": {},
   "outputs": [
    {
     "name": "stdout",
     "output_type": "stream",
     "text": [
      "###############################################################\n",
      "Preshuffle\n",
      "[[ 0  1  2  3  4  5  6  7]\n",
      " [ 8  9 10 11 12 13 14 15]\n",
      " [16 17 18 19 20 21 22 23]]\n",
      "################### Compare the differnce #####################\n",
      "Shuffle\n",
      "[[ 5  2  3  7  0  4  1  6]\n",
      " [12 11  9  8 14 10 15 13]\n",
      " [19 18 16 22 17 20 21 23]]\n",
      "###############################################################\n"
     ]
    }
   ],
   "source": [
    "########################################################################\n",
    "# Example 6\n",
    "########################################################################\n",
    "# Permutations\n",
    "########################################################################\n",
    "rng = np.random.default_rng()\n",
    "preshuffle = np.arange(24).reshape(3, 8)\n",
    "print('###############################################################')\n",
    "print('Preshuffle')\n",
    "print(preshuffle)\n",
    "print('################### Compare the differnce #####################')\n",
    "shuffle = rng.permuted(preshuffle, axis=1)\n",
    "print('Shuffle')\n",
    "print(shuffle)\n",
    "print('###############################################################')"
   ]
  },
  {
   "cell_type": "markdown",
   "metadata": {},
   "source": [
    "# 3. Explain the use and purpose of at least five “Distributions” functions.\n",
    "\n",
    "1. [Uniform Distribution](https://numpy.org/doc/stable/reference/random/generated/numpy.random.Generator.uniform.html#numpy.random.Generator.uniform)\n",
    "2. [Normal Distribution](https://numpy.org/doc/stable/reference/random/generated/numpy.random.Generator.normal.html#numpy-random-generator-normal)\n",
    "3. [Binomial Distribution](https://numpy.org/doc/stable/reference/random/generated/numpy.random.Generator.binomial.html#numpy.random.Generator.binomial)\n",
    "4. [Poisson Distribution](https://numpy.org/doc/stable/reference/random/generated/numpy.random.Generator.poisson.html#numpy.random.Generator.poisson)\n",
    "5. [Exponential Distribution](https://numpy.org/doc/stable/reference/random/generated/numpy.random.Generator.exponential.html#numpy.random.Generator.exponential)"
   ]
  },
  {
   "cell_type": "markdown",
   "metadata": {},
   "source": [
    "## 1. Uniform Distribution (Robotic version)\n",
    "\n",
    "To explain the purpose of **Uniform Distribution** is a probability distribution in which every value between an interval from a to b is equally likely to occur. \n",
    "\n",
    "In statistics, uniform distribution refers to a type of probability distribution in which all outcomes are equally likely. A deck of cards has within it uniform distributions because the likelihood of drawing a heart, a club, a diamond, or a spade is equally likely. A coin also has a uniform distribution because the probability of getting either heads or tails in a coin toss is the same. The uniform distribution can be visualized as a straight horizontal line, see Example 2, so for a coin flip returning a head or tail, both have a probability p = 0.50 and would be depicted by a line from the y-axis at 0.50. [31]\n",
    "\n",
    "## Example 2\n",
    "![Example 2](https://github.com/DPR-droid/Programming-for-Data-Analysis-Assignment-2021/blob/main/png/UniformDistribution.png?raw=true)\n",
    "\n",
    "### How would you demonstrate Uniform Distribution (Real descriptive flavour)\n",
    "If you walked up to a random person on the street, the probability that their birthday falls on a given date would follow a uniform distribution because each day of the year is equally likely to be their birthday.\n",
    "\n",
    "For example, there are 365 days in a year so the probability that their birthday is on \n",
    "\n",
    "- January 1st would be 1/365.\n",
    "- January 2nd is 1/365.\n",
    "- January 3rd is 1/365. \n",
    "- and so on. [14]\n",
    "\n",
    "#### Example 7\n",
    "\n",
    "As explained previously above ***When the script is executed using the module the values change allowing the simulation of data to test a hypothesis before applying or in the absence of real data***. We do not have time to hang around and ask 10000 people their birthday, we are going to allow NumPy.random.uniform to be uniformly distributed over 365 days for 100000 people. \n",
    "\n",
    "1. Input the number of days 1 - 365\n",
    "2. Input the number of people 100000\n",
    "3. Output a graph\n",
    "\n",
    "## Guessing someone's birthday"
   ]
  },
  {
   "cell_type": "code",
   "execution_count": 14,
   "metadata": {},
   "outputs": [
    {
     "data": {
      "image/png": "[encoded data removed]",
      "text/plain": [
       "<Figure size 432x288 with 1 Axes>"
      ]
     },
     "metadata": {
      "needs_background": "light"
     },
     "output_type": "display_data"
    }
   ],
   "source": [
    "########################################################################\n",
    "# Example 7\n",
    "########################################################################\n",
    "# Uniform Distribution\n",
    "# Guessing someone's birthday\n",
    "########################################################################\n",
    "# Input the number of days 1 - 365\n",
    "# Input the number of people 100000\n",
    "rng = np.random.default_rng()\n",
    "birthday = rng.uniform(1,366,100000)\n",
    "# Plot Function\n",
    "plotsforassignment(birthday, 'Uniform Distribution', 'Days of the year 1 - 365', 'Count', 12)"
   ]
  },
  {
   "cell_type": "markdown",
   "metadata": {},
   "source": [
    "## 2. Normal Distribution (Robotic version)\n",
    "\n",
    "Normal Distribution is the most important probability distribution in statistics because it fits many natural phenomena. For example, heights, blood pressure, measurement error, and IQ scores follow the normal distribution. It is also known as the Gaussian distribution and the bell curve. [17]\n",
    "\n",
    "The probability density function of the normal distribution, first derived by De Moivre and 200 years later by both Gauss and Laplace independently [15], is often called the bell curve because of its characteristic shape and other characteristics\n",
    "\n",
    "- Bell-shaped\n",
    "- Symmetrical\n",
    "- Unimodal – it has one “peak”\n",
    "- Mean and median are equal; both are located at the centre of the distribution\n",
    "- About 68% of data falls within one standard deviation of the mean\n",
    "- About 95% of data falls within two standard deviations of the mean\n",
    "- About 99.7% of data fall within three standard deviations of the mean [18]\n",
    "\n",
    "\n",
    "The normal distributions occurs often in nature. For example, it describes the commonly occurring distribution of samples influenced by a large number of tiny, random disturbances, each with its unique distribution [15] [16]\n",
    "\n",
    "### Normal Distribution Formula\n",
    "\n",
    "![Normal Distribution Formula](https://github.com/DPR-droid/Programming-for-Data-Analysis-Assignment-2021/blob/main/png/NormalDistribution.png?raw=true)\n",
    "\n",
    "### How would you demonstrate Normal Distribution (Real descriptive flavour)\n",
    "\n",
    "#### Example 8\n",
    "\n",
    "As explained previously above ***When the script is executed using the module the values change allowing the simulation of data to test a hypothesis before applying or in the absence of real data***. The histogram in this image represents a distribution of real IQ scores as measured by the Standford-Binet Intelligence Scale. [19] \n",
    "\n",
    "![IQ-Normal-Distribution](https://github.com/DPR-droid/Programming-for-Data-Analysis-Assignment-2021/blob/main/png/IQ-Normal-Distribution.png?raw=true)\n",
    "\n",
    "To recreate above using NumPy.random.normal\n",
    "\n",
    "1. Input the mean 100\n",
    "2. Input the standard deviation of 15\n",
    "4. Input sample size of 1015\n",
    "3. Output a graph\n",
    "\n",
    "##  Normal Distribution replicate natural phenomena of IQ"
   ]
  },
  {
   "cell_type": "code",
   "execution_count": 15,
   "metadata": {},
   "outputs": [
    {
     "data": {
      "image/png": "[encoded data removed]",
      "text/plain": [
       "<Figure size 432x288 with 1 Axes>"
      ]
     },
     "metadata": {
      "needs_background": "light"
     },
     "output_type": "display_data"
    }
   ],
   "source": [
    "########################################################################\n",
    "# Example 8\n",
    "########################################################################\n",
    "# Normal Distribution\n",
    "# Replicate natural phenomena of IQ\n",
    "########################################################################\n",
    "# Input the mean 100\n",
    "# Input the standard deviation of 15\n",
    "# Input sample size of 1015\n",
    "rng = np.random.default_rng()\n",
    "IQ = np.random.default_rng().normal(100, 15, 1015)\n",
    "# Plot Function\n",
    "plotsforassignment(IQ, 'Normal Distribution', 'IQ Score', 'IQ Count', 18)"
   ]
  },
  {
   "cell_type": "markdown",
   "metadata": {},
   "source": [
    "## 3. Binomial Distribution (Robotic version)\n",
    "\n",
    "The binomial distribution is a probability distribution that summarizes the likelihood that a value will take one of two independent values under a given set of parameters or assumptions. The underlying assumptions of the binomial distribution are that there is only one outcome for each trial, that each trial has the same probability of success, and that each trial is mutually exclusive, or independent of one another.  [21]\n",
    "\n",
    "- p (probability of success on a given trial)\n",
    "- n (number of trials)\n",
    "- k (number of successes)\n",
    "\n",
    "### Binomial Distribution Formula\n",
    "\n",
    "![Binomial Distribution Formula](https://github.com/DPR-droid/Programming-for-Data-Analysis-Assignment-2021/blob/main/png/BinomialDistribution.png?raw=true)\n",
    "\n",
    "### How would you demonstrate Binomial Distribution (Real descriptive flavour)\n",
    "\n",
    "The prediction of the number of spam emails received by a person is one of the prominent examples of a binomial distribution. This is because an email has two possibilities, i.e., either it can be a spam e-mail or not. [22]\n",
    "\n",
    "#### Example 9\n",
    "\n",
    "For example, suppose it is known that 15% of all emails are SPAM. If an account receives 20 emails in a given day, to find the probability that a certain number of those emails are spam: [20]\n",
    "\n",
    "1. Input the p (probability of success on a given trial) = 0.15\n",
    "2. Input the n (number of trials) = 20\n",
    "4. Input k (number of successes) = 1000\n",
    "3. Output a graph\n",
    "\n",
    "##  Probability of SPAM"
   ]
  },
  {
   "cell_type": "code",
   "execution_count": 16,
   "metadata": {},
   "outputs": [
    {
     "data": {
      "image/png": "[encoded data removed]",
      "text/plain": [
       "<Figure size 432x288 with 1 Axes>"
      ]
     },
     "metadata": {
      "needs_background": "light"
     },
     "output_type": "display_data"
    }
   ],
   "source": [
    "########################################################################\n",
    "# Example 9\n",
    "########################################################################\n",
    "# Binomial Distribution\n",
    "# Probability of SPAM\n",
    "########################################################################\n",
    "# Input the p (probability of success on a given trial) = 0.15\n",
    "# Input the n (number of trials) = 20\n",
    "# Input k (number of successes) = 1000\n",
    "rng = np.random.default_rng()\n",
    "spam = np.random.binomial(n=20, p=0.15, size=1000)\n",
    "# Plot Function\n",
    "plotsforassignment(spam, 'Binomial Distribution', 'SPAM Count','Probability of SPAM',  10)"
   ]
  },
  {
   "cell_type": "markdown",
   "metadata": {},
   "source": [
    "## 4. Poisson Distribution (Robotic version)\n",
    "\n",
    "A Poisson distribution is defined as a discrete frequency distribution that gives the probability of the number of independent events that occur in the fixed time. Poisson distribution is used when the independent events occurring at a constant rate within the given interval of time are provided. The major difference between the Poisson distribution and the normal distribution is that the Poisson distribution is discrete whereas the normal distribution is continuous. If the mean of the Poisson distribution becomes larger, then the Poisson distribution is similar to the normal distribution. The mean and the variance of the Poisson distribution are the same, which is equal to the average number of successes that occur in the given interval of time. [23]\n",
    "\n",
    "Poisson distribution are:\n",
    "- The number of trials (n) tends to infinity\n",
    "- The probability of success (p) tends to zero\n",
    "- np=1, which is finite. [23]\n",
    "\n",
    "### Poisson Distribution Formula \n",
    "\n",
    "![Poisson Distribution Formula](https://github.com/DPR-droid/Programming-for-Data-Analysis-Assignment-2021/blob/main/png/PoissonDistribution.png?raw=true)\n",
    "\n",
    "### How would you demostrate Poisson Distribution (Real descriptive flavour)\n",
    "\n",
    "It estimates how many times an event can happen in a specified time. e.g. If someone eats twice a day what is probability he will eat thrice? [24] an so on.\n",
    "\n",
    "#### Example 10\n",
    "\n",
    "1. Input lam - rate or known number of occurences e.g. 2 for above problem.\n",
    "2. Input size - The shape of the returned array = 1000\n",
    "3. Ouput a graph\n",
    "\n",
    "##  I'm Hungry"
   ]
  },
  {
   "cell_type": "code",
   "execution_count": 17,
   "metadata": {},
   "outputs": [
    {
     "data": {
      "image/png": "[encoded data removed]",
      "text/plain": [
       "<Figure size 432x288 with 1 Axes>"
      ]
     },
     "metadata": {
      "needs_background": "light"
     },
     "output_type": "display_data"
    }
   ],
   "source": [
    "########################################################################\n",
    "# Example 10\n",
    "########################################################################\n",
    "# Poisson Distribution\n",
    "# I'm Hungry\n",
    "########################################################################\n",
    "# Input lam - rate or known number of occurences e.g. 2 for above problem.\n",
    "# Input size - The shape of the returned array = 1000\n",
    "rng = np.random.default_rng()\n",
    "hungry = np.random.poisson(lam=2, size=1000)\n",
    "# Plot Function\n",
    "plotsforassignment(hungry, 'Poisson Distribution', 'Eating per day', 'Probability', 8)\n"
   ]
  },
  {
   "cell_type": "markdown",
   "metadata": {},
   "source": [
    "## 5. Exponential Distribution (Robotic version)\n",
    "\n",
    "Exponential Distribution enables us to understand the time frame till the occurrence of the next event. That is, the rate of the occurrence of any action depending upon the probability score. For example, the frame of success v/s failure rate – success/failure. [25] The exponential distribution is the probability distribution of the time between events in a Poisson point process, i.e., a process in which events occur continuously and independently at a constant average rate. It is a particular case of the gamma distribution [32]\n",
    "\n",
    "### Exponential Distribution Formula \n",
    "\n",
    "![Exponential Distribution Formula](https://github.com/DPR-droid/Programming-for-Data-Analysis-Assignment-2021/blob/main/png/ExponentialDistribution.png?raw=true)\n",
    "\n",
    "### How would you demostrate Exponential Distribution (Real descriptive flavour)\n",
    "\n",
    "The number of minutes between eruptions for a certain geyser can be modeled by the exponential distribution.\n",
    "\n",
    "For example, suppose the mean number of minutes between eruptions for a certain geyser is 40 minutes. If a geyser just erupts, what is the probability that we’ll have to wait less than 50 minutes for the next eruption? [26]\n",
    "\n",
    "#### Example 11\n",
    "\n",
    "1. Input the minutes of the eruption 40\n",
    "2. Input sample size 1000\n",
    "3. Ouput a graph\n",
    "\n",
    "##  There she blows"
   ]
  },
  {
   "cell_type": "code",
   "execution_count": 18,
   "metadata": {},
   "outputs": [
    {
     "data": {
      "image/png": "[encoded data removed]",
      "text/plain": [
       "<Figure size 432x288 with 1 Axes>"
      ]
     },
     "metadata": {
      "needs_background": "light"
     },
     "output_type": "display_data"
    }
   ],
   "source": [
    "########################################################################\n",
    "# Example 11\n",
    "########################################################################\n",
    "# Exponential Distribution\n",
    "# There she blows\n",
    "########################################################################\n",
    "# Input the minutes of the eruption 40\n",
    "# Input sample size 1000\n",
    "rng = np.random.default_rng()\n",
    "geyser  = np.random.exponential(40, 1000)\n",
    "# Plot Function\n",
    "plotsforassignment(geyser, 'Exponential Distribution', 'Minutes', 'Probability', 8)"
   ]
  },
  {
   "cell_type": "markdown",
   "metadata": {},
   "source": [
    "## Other distributions\n",
    "\n",
    "The NumPy probablilty distributions can be classified into two areas Discrete or Continuous associated with the data. \n",
    "\n",
    "### What is the difference between discrete and continuous data\n",
    "\n",
    "- Discrete data contains finite values that have nothing in-between \n",
    "- Continuous data contains data that can be measured, that includes fractions and decimals. \n",
    "\n",
    "#### Definition of Discrete Data\n",
    "\n",
    "The term discrete implies distinct or separate. Discrete data refers to the type of quantitative data that relies on counts. It contains only finite values, whose subdivision is not possible. It includes only those values that can only be counted in whole numbers or integers and are separate which means the data cannot be broken down into fraction or decimal.\n",
    "\n",
    "For Example, Number of students in the school, the number of cars in the parking lot, the number of computers in a computer lab, the number of animals in a zoo, etc.\n",
    "\n",
    "#### Definition of Continuous Data\n",
    "\n",
    "Continuous data is described as an unbroken set of observations; that can be measured on a scale. It can take any numeric value, within a finite or infinite range of possible value. Statistically, range refers to the difference between highest and lowest observation. The continuous data can be broken down into fractions and decimal, i.e. it can be meaningfully subdivided into smaller parts according to the measurement precision.\n",
    "\n",
    "For Example, Age, height or weight of a person, time taken to complete a task, temperature, time, money, etc. [33]\n",
    "\n",
    "### Identifying the correct type for of NumPy distributions\n",
    "\n",
    "**Discrete** - Binomial, Poisson\n",
    "\n",
    "**Continuous** - Uniform, Normal, Exponential\n",
    "\n",
    "Numpy has over 30 different [distributions](https://numpy.org/doc/stable/reference/random/generator.html#distributions) available. The graphic below demostrates some of the other distribution, with a decision tree on how to select the correct type.   \n",
    "\n",
    "![Numpy dsitributions](https://github.com/DPR-droid/Programming-for-Data-Analysis-Assignment-2021/blob/main/png/DistributionChoices.png?raw=true) [33]"
   ]
  },
  {
   "cell_type": "markdown",
   "metadata": {},
   "source": [
    "# 4. Explain the use of seeds in generating pseudorandom numbers."
   ]
  },
  {
   "cell_type": "markdown",
   "metadata": {},
   "source": [
    "## Why use a seed?\n",
    "Fixing the seed at the beginning ensures that the script is reproducible: the same values and results will be produced each time you run it. \n",
    "\n",
    "### How Seed Function Works ?\n",
    "Seed function is used to save the state of a random function, so that it can generate same random numbers on multiple executions of the code on the same machine or on different machines (for a specific seed value). The seed value is the previous value number generated by the generator. For the first time when there is no previous value, it uses current system time. [27]\n",
    "\n",
    "Notes on the seed function \n",
    "Newer version of NumPy higher than 1.17 to create a new Random Number Generator (RNG) is to use np.random.RandomState which is based on the popular Mersenne Twister 19937 algorithm. This is also how the global numpy RNG is created. It is still possible to use this function in versions higher than 1.17 but it is now recommended to use default_rng which returns an instance of the statistically better PCG64 RNG. \n",
    "\n",
    "- Avoid using the global numpy RNG. This means that you should avoid using np.random.seed and np.random.* functions, such as np.random.random, to generate random values.\n",
    "- Create a new RNG and pass it around using the np.random.default_rng function.\n",
    "- Be careful with parallel computations and rely on numpy strategies for reproducible parallel number generation.[28]\n",
    "\n",
    "### Overview of the algorithms\n",
    "\n",
    "- Mersenne Twister\n",
    "    - The Mersenne Twister is a strong pseudo-random number generator. In non-rigorous terms, a strong PRNG has a long period (how many values it generates before repeating itself) and a statistically uniform distribution of values (bits 0 and 1 are equally likely to appear regardless of previous values). [29]\n",
    "\n",
    "- PCG64\n",
    "    - PCG is a family of simple fast space-efficient statistically good algorithms for random number generation. Unlike many general-purpose RNGs, they are also hard to predict. [30]\n",
    "\n",
    "### Comparision of PCG to other algorithms [30]\n",
    "![pcg](https://github.com/DPR-droid/Programming-for-Data-Analysis-Assignment-2021/blob/main/png/pcg.png?raw=true)\n",
    "\n",
    "\n",
    "\n",
    "### How would you demostrate the Seed Function (Real descriptive flavour)\n",
    "\n",
    "This is going to be a simple demostration, by creating two different for loops, one with a no seed ( nonseeds ) and the other with a seed ( seeds ). \n",
    "\n",
    "#### Example 12\n",
    "\n",
    "1. **nonseeds** will print a new random number 5 times\n",
    "2. **seeds** will print the same random number 5 times\n",
    "\n",
    "##  To seed or not to seed"
   ]
  },
  {
   "cell_type": "code",
   "execution_count": 19,
   "metadata": {},
   "outputs": [
    {
     "name": "stdout",
     "output_type": "stream",
     "text": [
      "###############################################################\n",
      "# Without setting a seed a new random number is shown 5 times\n",
      "###############################################################\n",
      "331\n",
      "443\n",
      "832\n",
      "165\n",
      "373\n",
      "###############################################################\n",
      "# Setting a seed the same random number is repeated\n",
      "###############################################################\n",
      "830\n",
      "830\n",
      "830\n",
      "830\n",
      "830\n",
      "###############################################################\n"
     ]
    }
   ],
   "source": [
    "########################################################################\n",
    "# Example 12\n",
    "########################################################################\n",
    "# Seeds in generating pseudorandom numbers\n",
    "########################################################################\n",
    "print('###############################################################')\n",
    "print('# Without setting a seed a new random number is shown 5 times')\n",
    "print('###############################################################')\n",
    "for nonseeds in range(5):\n",
    "    # Any number can be used in place of '0'.\n",
    "    rng = np.random.default_rng()  \n",
    "    # Generated random number will be between 1 to 1000.\n",
    "    print(rng.integers(1, 1000)) \n",
    "\n",
    "\n",
    "print('###############################################################')\n",
    "print('# Setting a seed the same random number is repeated')\n",
    "print('###############################################################')\n",
    "for seeds in range(5):  \n",
    "    # Any number can be used in place of '0'.\n",
    "    rng = np.random.default_rng(seed=239)  \n",
    "    # Generated random number will be between 1 to 1000.\n",
    "    print(rng.integers(1, 1000)) \n",
    "print('###############################################################')"
   ]
  },
  {
   "cell_type": "markdown",
   "metadata": {},
   "source": [
    "# References \n",
    "\n",
    "[1] https://numpy.org/doc/stable/user/whatisnumpy.html\n",
    "\n",
    "[2] Brian Mcginley Lecturer GMIT\n",
    "\n",
    "[3] https://numpy.org/doc/stable/reference/random/index.html\n",
    "\n",
    "[4] https://www.angela1c.com/projects/numpy-random-files/task1/\n",
    "\n",
    "[5] https://webcourses.ucf.edu/courses/1249560/pages/python-lists-vs-numpy-arrays-what-is-the-difference\n",
    "\n",
    "[6] https://www.geeksforgeeks.org/python-lists-vs-numpy-arrays/\n",
    "\n",
    "[7] https://mathworld.wolfram.com/RandomNumber.html\n",
    "\n",
    "[8] https://www.javatpoint.com/numpy-random\n",
    "\n",
    "[9] https://linuxhint.com/use-python-numpy-random-function/\n",
    "\n",
    "[10] Dr Ian McLoughlin Lecturer GMIT\n",
    "\n",
    "[11] https://appdividend.com/2020/04/28/python-how-to-generate-random-permutation-in-numpy/\n",
    "\n",
    "[12] https://www.kaggle.com/dansbecker/permutation-importance\n",
    "\n",
    "[13] https://numpy.org/doc/stable/reference/random/generated/numpy.random.Generator.integers.html#numpy.random.Generator.integers\n",
    "\n",
    "[14] https://www.statology.org/uniform-distribution-real-life-examples/\n",
    "\n",
    "[15] P. R. Peebles Jr., “Central Limit Theorem” in “Probability, Random Variables and Random Signal Principles”, 4th ed., 2001, pp. 51, 51, 125.\n",
    "\n",
    "[16] https://numpy.org/doc/stable/reference/random/generated/numpy.random.Generator.normal.html#r1536f9c044a3-2\n",
    "\n",
    "[17] https://statisticsbyjim.com/basics/normal-distribution/\n",
    "\n",
    "[18] https://www.statology.org/example-of-normal-distribution/\n",
    "\n",
    "[19] https://www.westga.edu/academics/research/vrc/assets/docs/the_normal_distribution_notes.pdf\n",
    "\n",
    "[20] https://www.statology.org/binomial-distribution-real-life-examples/\n",
    "\n",
    "[21] https://www.investopedia.com/terms/b/binomialdistribution.asp\n",
    "\n",
    "[22] https://studiousguy.com/binomial-distribution-examples/\n",
    "\n",
    "[23] https://byjus-com.translate.goog/maths/poisson-distribution/?_x_tr_sl=auto&_x_tr_tl=en&_x_tr_hl=en-GB&_x_tr_pto=nui\n",
    "\n",
    "[24] https://www.w3schools.com/python/numpy/numpy_random_poisson.asp\n",
    "\n",
    "[25] https://www.askpython.com/python-modules/numpy/numpy-data-distributions\n",
    "\n",
    "[26] https://www.statology.org/exponential-distribution-real-life-examples/\n",
    "\n",
    "[27] https://www.geeksforgeeks.org/random-seed-in-python/\n",
    "\n",
    "[28] https://albertcthomas.github.io/good-practices-random-number-generators/\n",
    "\n",
    "[29] https://www.sciencedirect.com/topics/computer-science/mersenne-twister\n",
    "\n",
    "[30] https://www.oreilly.com/library/view/python-data-science/9781491912126/ch04.html\n",
    "\n",
    "[31] https://www.investopedia.com/terms/u/uniform-distribution.asp\n",
    "\n",
    "[32] https://en.wikipedia.org/wiki/Exponential_distribution\n",
    "\n",
    "[33] https://keydifferences.com/difference-between-discrete-and-continuous-data.html\n",
    "\n",
    "[34] https://analyticsbuddhu.wordpress.com/2017/02/26/how-many-types-of-continuous-probability-distribution/\n"
   ]
  }
 ],
 "metadata": {
  "interpreter": {
   "hash": "b3ba2566441a7c06988d0923437866b63cedc61552a5af99d1f4fb67d367b25f"
  },
  "kernelspec": {
   "display_name": "Python 3.8.8 64-bit ('base': conda)",
   "name": "python3"
  },
  "language_info": {
   "codemirror_mode": {
    "name": "ipython",
    "version": 3
   },
   "file_extension": ".py",
   "mimetype": "text/x-python",
   "name": "python",
   "nbconvert_exporter": "python",
   "pygments_lexer": "ipython3",
   "version": "3.8.8"
  },
  "orig_nbformat": 4
 },
 "nbformat": 4,
 "nbformat_minor": 2
}
