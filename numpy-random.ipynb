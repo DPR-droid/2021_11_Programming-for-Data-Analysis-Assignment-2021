{
 "cells": [
  {
   "cell_type": "markdown",
   "metadata": {},
   "source": [
    "# Assignment Statement\n",
    "\n",
    "Create a Jupyter notebook explaining the use of the package, including detailed explanations of at least five of the distributions provided for in the package\n",
    "\n",
    "There are four distinct tasks to be carried out in your Jupyter notebook.\n",
    "\n",
    "1. Explain the overall purpose of the package.\n",
    "2. Explain the use of the “Simple random data” and “Permutations” functions.\n",
    "3. Explain the use and purpose of at least five “Distributions” functions.\n",
    "4. Explain the use of seeds in generating pseudorandom numbers."
   ]
  },
  {
   "cell_type": "markdown",
   "metadata": {},
   "source": [
    "# 1. Explain the overall purpose of the package.\n",
    "\n",
    "## Numpy\n",
    "\n",
    "### Overall purpose of NumPy \n",
    "\n",
    "[Official Documentation](https://numpy.org/doc/stable/index.html)\n",
    "\n",
    "NumPy is an acronym for \"Numerical Python\" and is a package for scientific computing in Python and a library with built in functions:\n",
    "- Multidimensional array object\n",
    "- Various derived objects (arrays and matrices)\n",
    "- Fast Operations on arrays\n",
    "    mathematical, logical, shape manipulation, sorting, selecting, I/O, discrete Fourier transforms, basic linear algebra, basic statistical operations, random simulation \n",
    "At the core of the NumPy package, is the ndarray object. This encapsulates n-dimensional arrays of homogeneous data types, with many operations being performed in compiled code for performance. \n",
    "\n",
    "At the core of the NumPy package, is the ndarray object. This encapsulates n-dimensional arrays of homogeneous data types, with many operations being performed in compiled code for performance. There are several important differences between NumPy arrays and the standard Python sequences:\n",
    "- NumPy arrays have a fixed size at creation, unlike Python lists (which can grow dynamically). Changing the size of an ndarray will create a new array and delete the original.\n",
    "- The elements in a NumPy array are all required to be of the same data type, and thus will be the same size in memory. The exception: one can have arrays of (Python, including NumPy) objects, thereby allowing for arrays of different sized elements.\n",
    "- NumPy arrays facilitate advanced mathematical and other types of operations on large numbers of data. Typically, such operations are executed more efficiently and with less code than is possible using Python’s built-in sequences.\n",
    "- A growing plethora of scientific and mathematical Python-based packages are using NumPy arrays; though these typically support Python-sequence input, they convert such input to NumPy arrays prior to processing, and they often output NumPy arrays. In other words, in order to efficiently use much (perhaps even most) of today’s scientific/mathematical Python-based software, just knowing how to use Python’s built-in sequence types is insufficient - one also needs to know how to use NumPy arrays.\n",
    "[1]\n",
    "\n",
    "### NumPy package simplified\n",
    "\n",
    "In plain english what are the advantages of **NumPy** over the Python mathemtatical functions include:\n",
    "- **Size** - Numpy data structures take up less space\n",
    "- **Performance** - they have a need for speed and are faster than lists\n",
    "- **Functionality** - SciPy and NumPy have optimized functions such as linear algebra operations built in. [5]\n",
    "\n",
    "Essentially Numpy is faster then Python dealing with numbers, big long lists or list within list like matrices. [2] \n",
    "\n",
    "### How fast is NumPy?\n",
    "\n",
    "Now let me show you by creating 2 Python lists and 2 Numpy arrays with each container has 100000 elements. [6] Then calculte the time to perform \n",
    "\n",
    "1. Using Python only to multiply elements of both the lists and stored in another list\n",
    "2. Using NumPy Module to multiply elements of both the Numpy arrays and stored in another Numpy array \n",
    "3. Output how much faster is NumPY\n",
    "\n",
    "Output:\n",
    "    \n",
    "    size = 30000000  \n",
    "    Time taken by python lists to perform multiplication: 3.899850606918335 seconds\n",
    "    Time taken by NumPy Arrays to perform multiplication: 0.10661029815673828 seconds\n",
    "    Numpy is in this example 0.9999999976169666 faster!\n"
   ]
  },
  {
   "cell_type": "markdown",
   "metadata": {},
   "source": [
    "### Timing Numpy program"
   ]
  },
  {
   "cell_type": "code",
   "execution_count": 29,
   "metadata": {},
   "outputs": [
    {
     "name": "stdout",
     "output_type": "stream",
     "text": [
      "Time taken by python lists to perform multiplication: 0.02800750732421875 seconds\n",
      "Time taken by NumPy Arrays to perform multiplication: 0.0029969215393066406 seconds\n",
      "Numpy is in this example 0.9999999999828935 faster!\n"
     ]
    }
   ],
   "source": [
    "# Import numpy module\n",
    "import numpy as np\n",
    "# Import time\n",
    "import time\n",
    "# If you are running this why don't you try changing increasing the size from 100000 to 50000000.\n",
    "# Size of arrays and lists\n",
    "size = 100000  \n",
    "# size = 50000000  \n",
    "# Declaring Python lists\n",
    "list1 = range(size)\n",
    "list2 = range(size)\n",
    "   \n",
    "# Declaring NumPy arrays\n",
    "array1 = np.arange(size)  \n",
    "array2 = np.arange(size)\n",
    "   \n",
    "# Capturing time before the multiplication of Python lists\n",
    "PythonTime = time.time()\n",
    "  \n",
    "# Multiplying elements of both the lists and stored in another list\n",
    "resultantList = [(a * b) for a, b in zip(list1, list2)]\n",
    "   \n",
    "# Calculating execution time of Python\n",
    "print(\"Time taken by python lists to perform multiplication:\", (time.time() - PythonTime), \"seconds\")\n",
    "   \n",
    "# Capturing time before the multiplication of Numpy arrays\n",
    "NumpyTime = time.time()\n",
    "  \n",
    "# Multiplying elements of both the Numpy arrays and stored in another Numpy array \n",
    "resultantArray = array1 * array2\n",
    "   \n",
    "# Calculating execution time NumPy\n",
    "print(\"Time taken by NumPy Arrays to perform multiplication:\", (time.time() - NumpyTime), \"seconds\")\n",
    "\n",
    "# How fast is it?\n",
    "Numpyspeed = (PythonTime/NumpyTime)\n",
    "print(\"Numpy is in this example \" + str(Numpyspeed) + \" faster!\")"
   ]
  },
  {
   "cell_type": "markdown",
   "metadata": {},
   "source": [
    "## Overall purpose of the numpy.random.*\n",
    "Documentation for [numpy.random](https://numpy.org/doc/stable/reference/random/index.html) \n",
    "\n",
    "The numpy.random Documentation has been updated recently and divide into two sections [BitGenerators](https://numpy.org/doc/stable/reference/random/bit_generators/generated/numpy.random.BitGenerator.html#numpy.random.BitGenerator) and [Generators](https://numpy.org/doc/stable/reference/random/generator.html#numpy.random.Generator). The main difference between the two is that Generator relies on an additional BitGenerator to manage state and generate the random bits, which are then transformed into random values from useful distributions.\n",
    "\n",
    "### What is a random number?\n",
    "According to [Wolfram MathWorld](https://mathworld.wolfram.com/RandomNumber.html) a random number is a number chosen as if by chance from some specified distribution such that selection of a large set of these numbers reproduces the underlying distribution. Almost always, such numbers are also required to be independent, so that there are no correlations between successive numbers. Computer-generated random numbers are sometimes called pseudorandom numbers, while the term \"random\" is reserved for the output of unpredictable physical processes. When used without qualification, the word \"random\" usually means \"random with a uniform distribution. [7]\n",
    "\n",
    "### What is numpy.random?\n",
    "\n",
    "The **numpy.random** is a sub-package of NumPy library. This module contains the functions which are used for generating random numbers. This module contains some simple random data generation methods, some permutation and distribution functions, and random generator function. [8] When the script is executed using the module the values change allowing the simulation of data to test a hypothesis before applying or in the absence of real data. The random numbers are mainly used for the various types of testing and sampling in such areas as data analytics, scientific research and machine learning. Many functions exist in random module to generate random numbers, such as rand(), randint(), random() [9]\n",
    "\n"
   ]
  },
  {
   "cell_type": "markdown",
   "metadata": {},
   "source": [
    "# 2. Explain the use of the “Simple random data” and “Permutations” functions."
   ]
  },
  {
   "cell_type": "markdown",
   "metadata": {},
   "source": [
    "## Simple random data\n",
    "\n",
    "There are four funtions within [Simple random data](https://numpy.org/doc/stable/reference/random/generator.html#simple-random-data). \n",
    "\n",
    "1. [integers](https://numpy.org/doc/stable/reference/random/generated/numpy.random.Generator.integers.html#numpy.random.Generator.integers): Return random integers from low (inclusive) to high (exclusive), or if endpoint=True, low (inclusive) to high (inclusive). \n",
    "2. [random](https://numpy.org/doc/stable/reference/random/generated/numpy.random.Generator.random.html#numpy.random.Generator.random): Return random floats in the half-open interval [0.0, 1.0).\n",
    "3. [choice](https://numpy.org/doc/stable/reference/random/generated/numpy.random.Generator.choice.html#numpy.random.Generator.choice): Generates a random sample from a given array\n",
    "4. [bytes](https://numpy.org/doc/stable/reference/random/generated/numpy.random.Generator.bytes.html#numpy.random.Generator.bytes): Generates a random sample from a given array\n",
    "\n",
    "### What does this all mean?\n",
    "\n",
    "The package generates random arrays including integers or floats with ranges specified or using other arrays.\n",
    "\n",
    "### Now lets look at examples of some of the functions\n",
    "\n",
    "1. Example 1 uses the integer function to create an array of random numbers up to 100, 10000 times. This returns random integers from the “discrete uniform” distribution and diplayed in a histogram [13] \n",
    "2. Example 2 is from the [NumPy API Random Documentation](https://numpy.org/doc/stable/reference/random/generated/numpy.random.Generator.random.html#numpy.random.Generator.random) to generate a random float. This example is used to show you the reader that more examples and resources are available.\n",
    "3. Example 3 is used to random sample from a given array and the probabilities associated with each entry in the array\n",
    "4. Example 4 is a demonstration of ***How would you use Simple random data*** \n"
   ]
  },
  {
   "cell_type": "code",
   "execution_count": 42,
   "metadata": {},
   "outputs": [
    {
     "data": {
      "text/plain": [
       "(array([ 935., 1004., 1064., 1030.,  992., 1004.,  974.,  986., 1000.,\n",
       "        1011.]),\n",
       " array([ 0. ,  9.9, 19.8, 29.7, 39.6, 49.5, 59.4, 69.3, 79.2, 89.1, 99. ]),\n",
       " <BarContainer object of 10 artists>)"
      ]
     },
     "execution_count": 42,
     "metadata": {},
     "output_type": "execute_result"
    },
    {
     "data": {
      "image/png": "[encoded data removed]",
      "text/plain": [
       "<Figure size 432x288 with 1 Axes>"
      ]
     },
     "metadata": {
      "needs_background": "light"
     },
     "output_type": "display_data"
    }
   ],
   "source": [
    "# Example 1\n",
    "# Import numpy module\n",
    "import numpy as np\n",
    "# Import mathplotlib\n",
    "import matplotlib.pyplot as plt\n",
    "\n",
    "# Examples of integers\n",
    "rng = np.random.default_rng()\n",
    "# Create an array\n",
    "uniformdist = rng.integers(100, size=10000)\n",
    "# Create a plot  to see the randomness\n",
    "plt.title('Uniform Distribution')\n",
    "plt.hist(uniformdist)\n"
   ]
  },
  {
   "cell_type": "code",
   "execution_count": 31,
   "metadata": {},
   "outputs": [
    {
     "data": {
      "text/plain": [
       "0.37407826304689684"
      ]
     },
     "execution_count": 31,
     "metadata": {},
     "output_type": "execute_result"
    }
   ],
   "source": [
    "# Example 2\n",
    "# Generates a random float\n",
    "rng = np.random.default_rng()\n",
    "rng.random()"
   ]
  },
  {
   "cell_type": "code",
   "execution_count": 32,
   "metadata": {},
   "outputs": [
    {
     "data": {
      "text/plain": [
       "array(['Santa', 'Jack Frost', 'Santa', 'Jack Frost', 'Tooth Fairy'],\n",
       "      dtype='<U12')"
      ]
     },
     "execution_count": 32,
     "metadata": {},
     "output_type": "execute_result"
    }
   ],
   "source": [
    "# Example 3\n",
    "rng = np.random.default_rng()\n",
    "# Generates a random sample of an array\n",
    "aa_milne_arr = ['Santa', 'Easter Bunny', 'Jack Frost', 'Sandman', 'Tooth Fairy']\n",
    "# p value must have same size \n",
    "# 5 samples in array, 5 different p values \n",
    "#\n",
    "# p value must add upto 1  \n",
    "# 0.4 + 0.1 + 0.1 + 0.2 + 0.2 = 1\n",
    "rng.choice(aa_milne_arr, 5, p=[0.4, 0.1, 0.1, 0.2, 0.2])"
   ]
  },
  {
   "cell_type": "markdown",
   "metadata": {},
   "source": [
    "### How would you use Simple random data \n",
    "#### Example 4\n",
    "\n",
    "As explained previously above ***When the script is executed using the module the values change allowing the simulation of data to test a hypothesis before applying or in the absence of real data***. Rolling two dice we understand that it is more likely that the total number of 6,7,8 happens more frequently. To test that hypothesis we wouldn't want to roll two dice tenthousand times, besides sore wrist and missed childhoods, we are going to allow numpy.random to generate an array of two numbers between 1 and 6, repeatedly 100000 times. \n",
    "\n",
    "1. Input the number of dice ***numofdice = 2***\n",
    "2. Input the number of rolls ***numofturn = 100000***\n",
    "3. Add the values of the 2 dice, numbers between 2 and 12\n",
    "4. Count the number of times a number occurs between 2 and 12\n",
    "5. Ouput a graph\n",
    "\n",
    "\n",
    "Why not update the values below to 10 dice and 5000000\n",
    "\n",
    "    ***numofdice = 10***\n",
    "    ***numofturn = 5000000***\n",
    "\n",
    "## Throwing 2 Dice 10000 times\n"
   ]
  },
  {
   "cell_type": "code",
   "execution_count": 33,
   "metadata": {},
   "outputs": [
    {
     "name": "stdout",
     "output_type": "stream",
     "text": [
      "Example of output of dice thrown\n",
      "[[3 1]\n",
      " [5 4]\n",
      " [4 6]\n",
      " ...\n",
      " [3 2]\n",
      " [3 4]\n",
      " [6 4]]\n",
      "Example of output total when adding dice together\n",
      "[ 4  9 10 ...  5  7 10]\n",
      "Output totals to identify the highest probable outcome when throwning two dice\n"
     ]
    },
    {
     "data": {
      "text/plain": [
       "<BarContainer object of 11 artists>"
      ]
     },
     "execution_count": 33,
     "metadata": {},
     "output_type": "execute_result"
    },
    {
     "data": {
      "image/png": "[encoded data removed]",
      "text/plain": [
       "<Figure size 432x288 with 1 Axes>"
      ]
     },
     "metadata": {
      "needs_background": "light"
     },
     "output_type": "display_data"
    }
   ],
   "source": [
    "# Import numpy module \n",
    "# [10] Script updated for version of NumPy v1.21 Simple random data functions  \n",
    "import numpy as np\n",
    "# Import mathplotlib\n",
    "import matplotlib.pyplot as plt\n",
    "\n",
    "rng = np.random.default_rng()\n",
    "# The number of dice to roll in each turn\n",
    "numofdice = 2\n",
    "# The number of turns\n",
    "numofturn = 100000\n",
    "# Roll the dice\n",
    "dice = rng.integers(1, 7, size=(numofturn, numofdice))\n",
    "# See List\n",
    "print('Example of output of dice thrown')\n",
    "print(dice)\n",
    "\n",
    "# Sum the faces of the dice\n",
    "totals = np.sum(dice, axis=1)\n",
    "# Have a look\n",
    "print('Example of output total when adding dice together')\n",
    "print(totals)\n",
    "\n",
    "# Count the number of total for 2 dice.\n",
    "faces, counts = np.unique(totals, return_counts=True)\n",
    "faces , counts\n",
    "\n",
    "print('Output totals to identify the highest probable outcome when throwning two dice')\n",
    "#plt.pyplot.hist(totals)\n",
    "plt.xlabel('Dice')\n",
    "plt.ylabel('Counts')\n",
    "plt.title('Throwing 2 Dice 10000 times')\n",
    "plt.bar(faces , counts)"
   ]
  },
  {
   "cell_type": "markdown",
   "metadata": {},
   "source": [
    "## Permutations\n",
    "\n",
    "There are three funtions within [Permutations](https://numpy.org/doc/stable/reference/random/generator.html#permutations) The np.random.permutation() function randomly permute a sequence or return a permuted range. Numpy random permutation() method accepts x, an int or array_like parameter, and returns the permuted sequence or array range. [11]\n",
    "\n",
    "1. [shuffle](https://numpy.org/doc/stable/reference/random/generated/numpy.random.Generator.shuffle.html#numpy.random.Generator.shuffle): Modify an array or sequence in-place by shuffling its contents.\n",
    "2. [permutation](https://numpy.org/doc/stable/reference/random/generated/numpy.random.Generator.permutation.html#numpy.random.Generator.permutation): Randomly permute a sequence, or return a permuted range.\n",
    "3. [permuted](https://numpy.org/doc/stable/reference/random/generated/numpy.random.Generator.permuted.html#numpy.random.Generator.permuted): Randomly permute a sequence, or return a permuted range.\n",
    "\n",
    "## What does this all mean?\n",
    "\n",
    "The package randomise the sequence or shuffling of data. Whys is that important, if we have used data and created the predictions model and it works. The permuation allows to randomly shuffle the data, how would that affect the accuracy of predictions in that now-shuffled data? Randomly re-ordering a single column should cause less accurate predictions, since the resulting data no longer corresponds to anything observed in the real world. Model accuracy especially suffers if we shuffle a column that the model relied on heavily for predictions. \n",
    "\n",
    "With this insight, the process is as follows:\n",
    "\n",
    "    Get a trained model.\n",
    "    Shuffle the values in a single column, make predictions using the resulting dataset. Use these predictions and the true target values to calculate how much the loss function suffered from shuffling. That performance deterioration measures the importance of the variable you just shuffled.\n",
    "    Return the data to the original order (undoing the shuffle from step 2). Now repeat step 2 with the next column in the dataset, until you have calculated the importance of each column. \n",
    "\n",
    "[11]\n",
    "\n",
    "### Now lets look at an example function\n",
    "\n",
    "The example below generates a 3 arrays each with 8 number from 0 to 23. Using the permuted function arrays numbers are shuffled \n"
   ]
  },
  {
   "cell_type": "code",
   "execution_count": 34,
   "metadata": {},
   "outputs": [
    {
     "data": {
      "text/plain": [
       "array([[ 0,  1,  2,  3,  4,  5,  6,  7],\n",
       "       [ 8,  9, 10, 11, 12, 13, 14, 15],\n",
       "       [16, 17, 18, 19, 20, 21, 22, 23]])"
      ]
     },
     "execution_count": 34,
     "metadata": {},
     "output_type": "execute_result"
    }
   ],
   "source": [
    "rng = np.random.default_rng()\n",
    "x = np.arange(24).reshape(3, 8)\n",
    "x"
   ]
  },
  {
   "cell_type": "code",
   "execution_count": 35,
   "metadata": {},
   "outputs": [
    {
     "data": {
      "text/plain": [
       "array([[ 2,  3,  4,  6,  7,  0,  1,  5],\n",
       "       [13,  8, 10,  9, 15, 12, 14, 11],\n",
       "       [20, 22, 19, 18, 23, 21, 17, 16]])"
      ]
     },
     "execution_count": 35,
     "metadata": {},
     "output_type": "execute_result"
    }
   ],
   "source": [
    "y = rng.permuted(x, axis=1)\n",
    "y"
   ]
  },
  {
   "cell_type": "markdown",
   "metadata": {},
   "source": [
    "# 3. Explain the use and purpose of at least five “Distributions” functions.\n",
    "\n",
    "1. [Uniform Distribution](https://numpy.org/doc/stable/reference/random/generated/numpy.random.Generator.uniform.html#numpy.random.Generator.uniform)\n",
    "2. [Normal Distribution](https://numpy.org/doc/stable/reference/random/generated/numpy.random.Generator.normal.html#numpy-random-generator-normal)\n",
    "3. \n",
    "4. \n",
    "5. \n"
   ]
  },
  {
   "cell_type": "markdown",
   "metadata": {},
   "source": [
    "## 1. Uniform Distribution\n",
    "\n",
    "Starting off is to explain the purpose of **Uniform Distribution** as we have used this in **Example 1** uses the integer function to create an array of random numbers up to 100, 10000 times. This returns random integers from the “discrete uniform” distribution and diplayed in a histogram [13]"
   ]
  },
  {
   "cell_type": "code",
   "execution_count": 52,
   "metadata": {},
   "outputs": [
    {
     "data": {
      "text/plain": [
       "(array([ 935., 1004., 1064., 1030.,  992., 1004.,  974.,  986., 1000.,\n",
       "        1011.]),\n",
       " array([ 0. ,  9.9, 19.8, 29.7, 39.6, 49.5, 59.4, 69.3, 79.2, 89.1, 99. ]),\n",
       " <BarContainer object of 10 artists>)"
      ]
     },
     "execution_count": 52,
     "metadata": {},
     "output_type": "execute_result"
    },
    {
     "data": {
      "image/png": "[encoded data removed]",
      "text/plain": [
       "<Figure size 432x288 with 1 Axes>"
      ]
     },
     "metadata": {
      "needs_background": "light"
     },
     "output_type": "display_data"
    }
   ],
   "source": [
    "plt.title('Uniform Distribution')\n",
    "plt.hist(uniformdist)"
   ]
  },
  {
   "cell_type": "markdown",
   "metadata": {},
   "source": [
    "## 2. Normal Distribution\n",
    "\n",
    "Starting off is to explain the purpose of **Normal Distribution** as we have used this in **Example 2** model to output the distribution of throwing 2 dice 100000 times and visualise the outcome.\n",
    "\n"
   ]
  },
  {
   "cell_type": "code",
   "execution_count": 37,
   "metadata": {},
   "outputs": [
    {
     "name": "stdout",
     "output_type": "stream",
     "text": [
      "Output totals to identify the highest probable outcome when throwning two dice\n"
     ]
    },
    {
     "data": {
      "text/plain": [
       "<BarContainer object of 11 artists>"
      ]
     },
     "execution_count": 37,
     "metadata": {},
     "output_type": "execute_result"
    },
    {
     "data": {
      "image/png": "[encoded data removed]",
      "text/plain": [
       "<Figure size 432x288 with 1 Axes>"
      ]
     },
     "metadata": {
      "needs_background": "light"
     },
     "output_type": "display_data"
    }
   ],
   "source": [
    "print('Output totals to identify the highest probable outcome when throwning two dice')\n",
    "#plt.pyplot.hist(totals)\n",
    "plt.xlabel('Dice')\n",
    "plt.ylabel('Counts')\n",
    "plt.title('Throwing 2 Dice 10000 times')\n",
    "plt.bar(faces , counts)"
   ]
  },
  {
   "cell_type": "code",
   "execution_count": null,
   "metadata": {},
   "outputs": [],
   "source": []
  },
  {
   "cell_type": "code",
   "execution_count": null,
   "metadata": {},
   "outputs": [],
   "source": []
  },
  {
   "cell_type": "markdown",
   "metadata": {},
   "source": []
  },
  {
   "cell_type": "code",
   "execution_count": null,
   "metadata": {},
   "outputs": [],
   "source": []
  },
  {
   "cell_type": "markdown",
   "metadata": {},
   "source": []
  },
  {
   "cell_type": "code",
   "execution_count": null,
   "metadata": {},
   "outputs": [],
   "source": []
  },
  {
   "cell_type": "code",
   "execution_count": null,
   "metadata": {},
   "outputs": [],
   "source": []
  },
  {
   "cell_type": "markdown",
   "metadata": {},
   "source": [
    "# 4. Explain the use of seeds in generating pseudorandom numbers."
   ]
  },
  {
   "cell_type": "markdown",
   "metadata": {},
   "source": []
  },
  {
   "cell_type": "code",
   "execution_count": null,
   "metadata": {},
   "outputs": [],
   "source": []
  },
  {
   "cell_type": "code",
   "execution_count": null,
   "metadata": {},
   "outputs": [],
   "source": []
  },
  {
   "cell_type": "markdown",
   "metadata": {},
   "source": [
    "# References \n",
    "\n",
    "[1] https://numpy.org/doc/stable/user/whatisnumpy.html\n",
    "\n",
    "[2] Brian Mcginley Lecturer GMIT\n",
    "\n",
    "[3] https://numpy.org/doc/stable/reference/random/index.html\n",
    "\n",
    "[4] https://www.angela1c.com/projects/numpy-random-files/task1/\n",
    "\n",
    "[5] https://webcourses.ucf.edu/courses/1249560/pages/python-lists-vs-numpy-arrays-what-is-the-difference\n",
    "\n",
    "[6] https://www.geeksforgeeks.org/python-lists-vs-numpy-arrays/\n",
    "\n",
    "[7] https://mathworld.wolfram.com/RandomNumber.html\n",
    "\n",
    "[8] https://www.javatpoint.com/numpy-random\n",
    "\n",
    "[9] https://linuxhint.com/use-python-numpy-random-function/\n",
    "\n",
    "[10] Dr Ian McLoughlin Lecturer GMIT\n",
    "\n",
    "[11] https://appdividend.com/2020/04/28/python-how-to-generate-random-permutation-in-numpy/\n",
    "\n",
    "[12] https://www.kaggle.com/dansbecker/permutation-importance\n",
    "\n",
    "[13] https://numpy.org/doc/stable/reference/random/generated/numpy.random.Generator.integers.html#numpy.random.Generator.integers"
   ]
  },
  {
   "cell_type": "code",
   "execution_count": null,
   "metadata": {},
   "outputs": [],
   "source": []
  }
 ],
 "metadata": {
  "interpreter": {
   "hash": "b3ba2566441a7c06988d0923437866b63cedc61552a5af99d1f4fb67d367b25f"
  },
  "kernelspec": {
   "display_name": "Python 3.8.8 64-bit ('base': conda)",
   "name": "python3"
  },
  "language_info": {
   "codemirror_mode": {
    "name": "ipython",
    "version": 3
   },
   "file_extension": ".py",
   "mimetype": "text/x-python",
   "name": "python",
   "nbconvert_exporter": "python",
   "pygments_lexer": "ipython3",
   "version": "3.8.8"
  },
  "orig_nbformat": 4
 },
 "nbformat": 4,
 "nbformat_minor": 2
}
